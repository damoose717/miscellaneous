{
 "cells": [
  {
   "cell_type": "markdown",
   "metadata": {
    "Collapsed": "false"
   },
   "source": [
    "**Dataset**\\\n",
    "Each row in the dataset is anonymized real policy data. A policy is considered churned if the difference between the start and end date is less than 1 year.\n",
    "\n",
    "**Problem**\\\n",
    "Develop a model to predict a policy's probability to churn at time of sale."
   ]
  },
  {
   "cell_type": "code",
   "execution_count": 94,
   "metadata": {
    "Collapsed": "false"
   },
   "outputs": [],
   "source": [
    "import os\n",
    "import pandas as pd\n",
    "import numpy as np\n",
    "import matplotlib.pyplot as plt\n",
    "import datetime\n",
    "import sklearn\n",
    "from sklearn.model_selection import train_test_split\n",
    "from sklearn.ensemble import RandomForestClassifier\n",
    "from sklearn import preprocessing\n",
    "from sklearn.metrics import roc_auc_score\n"
   ]
  },
  {
   "cell_type": "code",
   "execution_count": 43,
   "metadata": {},
   "outputs": [],
   "source": [
    "df = pd.read_csv(os.getcwd() + '/churn_data.csv', parse_dates=['start_date','end_date'])"
   ]
  },
  {
   "cell_type": "code",
   "execution_count": 44,
   "metadata": {
    "Collapsed": "false"
   },
   "outputs": [
    {
     "data": {
      "text/html": [
       "<div>\n",
       "<style scoped>\n",
       "    .dataframe tbody tr th:only-of-type {\n",
       "        vertical-align: middle;\n",
       "    }\n",
       "\n",
       "    .dataframe tbody tr th {\n",
       "        vertical-align: top;\n",
       "    }\n",
       "\n",
       "    .dataframe thead th {\n",
       "        text-align: right;\n",
       "    }\n",
       "</style>\n",
       "<table border=\"1\" class=\"dataframe\">\n",
       "  <thead>\n",
       "    <tr style=\"text-align: right;\">\n",
       "      <th></th>\n",
       "      <th>customer_id</th>\n",
       "      <th>start_date</th>\n",
       "      <th>end_date</th>\n",
       "      <th>years_of_experience</th>\n",
       "      <th>channel</th>\n",
       "      <th>geo</th>\n",
       "      <th>profession_id</th>\n",
       "      <th>cancellation_reason</th>\n",
       "    </tr>\n",
       "  </thead>\n",
       "  <tbody>\n",
       "    <tr>\n",
       "      <th>0</th>\n",
       "      <td>d18013b0edd9a43a0fdb67c8cfbc3342</td>\n",
       "      <td>2019-09-05</td>\n",
       "      <td>2019-11-04</td>\n",
       "      <td>5.0</td>\n",
       "      <td>channel sales</td>\n",
       "      <td>TX</td>\n",
       "      <td>5010</td>\n",
       "      <td>Non-Payment</td>\n",
       "    </tr>\n",
       "    <tr>\n",
       "      <th>1</th>\n",
       "      <td>9f618809d3a625ddd81ce0d8237c99dd</td>\n",
       "      <td>2020-02-24</td>\n",
       "      <td>2020-04-14</td>\n",
       "      <td>5.0</td>\n",
       "      <td>organic</td>\n",
       "      <td>OH</td>\n",
       "      <td>100003</td>\n",
       "      <td>Insured is no longer in business</td>\n",
       "    </tr>\n",
       "    <tr>\n",
       "      <th>2</th>\n",
       "      <td>47e9c803736f0999430324aaaba6046c</td>\n",
       "      <td>2019-08-26</td>\n",
       "      <td>2019-10-26</td>\n",
       "      <td>5.0</td>\n",
       "      <td>sem</td>\n",
       "      <td>FL</td>\n",
       "      <td>5006</td>\n",
       "      <td>Non-Payment</td>\n",
       "    </tr>\n",
       "    <tr>\n",
       "      <th>3</th>\n",
       "      <td>825463b772f05057975b61988718e6af</td>\n",
       "      <td>2019-10-09</td>\n",
       "      <td>2019-11-18</td>\n",
       "      <td>10.0</td>\n",
       "      <td>sem</td>\n",
       "      <td>OH</td>\n",
       "      <td>100001</td>\n",
       "      <td>I had a short-term need for insurance that has...</td>\n",
       "    </tr>\n",
       "    <tr>\n",
       "      <th>4</th>\n",
       "      <td>66a8c47b8ecaaed6fc1031b1d9ab1e3c</td>\n",
       "      <td>2019-04-08</td>\n",
       "      <td>2020-04-08</td>\n",
       "      <td>5.0</td>\n",
       "      <td>sem</td>\n",
       "      <td>MD</td>\n",
       "      <td>100040</td>\n",
       "      <td>NaN</td>\n",
       "    </tr>\n",
       "  </tbody>\n",
       "</table>\n",
       "</div>"
      ],
      "text/plain": [
       "                        customer_id start_date   end_date  \\\n",
       "0  d18013b0edd9a43a0fdb67c8cfbc3342 2019-09-05 2019-11-04   \n",
       "1  9f618809d3a625ddd81ce0d8237c99dd 2020-02-24 2020-04-14   \n",
       "2  47e9c803736f0999430324aaaba6046c 2019-08-26 2019-10-26   \n",
       "3  825463b772f05057975b61988718e6af 2019-10-09 2019-11-18   \n",
       "4  66a8c47b8ecaaed6fc1031b1d9ab1e3c 2019-04-08 2020-04-08   \n",
       "\n",
       "   years_of_experience        channel geo  profession_id  \\\n",
       "0                  5.0  channel sales  TX           5010   \n",
       "1                  5.0        organic  OH         100003   \n",
       "2                  5.0            sem  FL           5006   \n",
       "3                 10.0            sem  OH         100001   \n",
       "4                  5.0            sem  MD         100040   \n",
       "\n",
       "                                 cancellation_reason  \n",
       "0                                        Non-Payment  \n",
       "1                   Insured is no longer in business  \n",
       "2                                        Non-Payment  \n",
       "3  I had a short-term need for insurance that has...  \n",
       "4                                                NaN  "
      ]
     },
     "execution_count": 44,
     "metadata": {},
     "output_type": "execute_result"
    }
   ],
   "source": [
    "df.head()"
   ]
  },
  {
   "cell_type": "code",
   "execution_count": 45,
   "metadata": {
    "Collapsed": "false"
   },
   "outputs": [
    {
     "data": {
      "text/plain": [
       "(30000, 8)"
      ]
     },
     "execution_count": 45,
     "metadata": {},
     "output_type": "execute_result"
    }
   ],
   "source": [
    "df.shape"
   ]
  },
  {
   "cell_type": "code",
   "execution_count": 46,
   "metadata": {
    "Collapsed": "false"
   },
   "outputs": [
    {
     "data": {
      "text/plain": [
       "customer_id                0\n",
       "start_date                 0\n",
       "end_date                   0\n",
       "years_of_experience        0\n",
       "channel                   66\n",
       "geo                        0\n",
       "profession_id              0\n",
       "cancellation_reason    19116\n",
       "dtype: int64"
      ]
     },
     "execution_count": 46,
     "metadata": {},
     "output_type": "execute_result"
    }
   ],
   "source": [
    "df.isna().sum()"
   ]
  },
  {
   "cell_type": "code",
   "execution_count": 47,
   "metadata": {},
   "outputs": [
    {
     "data": {
      "text/plain": [
       "customer_id                    object\n",
       "start_date             datetime64[ns]\n",
       "end_date               datetime64[ns]\n",
       "years_of_experience           float64\n",
       "channel                        object\n",
       "geo                            object\n",
       "profession_id                   int64\n",
       "cancellation_reason            object\n",
       "dtype: object"
      ]
     },
     "execution_count": 47,
     "metadata": {},
     "output_type": "execute_result"
    }
   ],
   "source": [
    "df.dtypes"
   ]
  },
  {
   "cell_type": "code",
   "execution_count": 48,
   "metadata": {},
   "outputs": [
    {
     "data": {
      "text/html": [
       "<div>\n",
       "<style scoped>\n",
       "    .dataframe tbody tr th:only-of-type {\n",
       "        vertical-align: middle;\n",
       "    }\n",
       "\n",
       "    .dataframe tbody tr th {\n",
       "        vertical-align: top;\n",
       "    }\n",
       "\n",
       "    .dataframe thead th {\n",
       "        text-align: right;\n",
       "    }\n",
       "</style>\n",
       "<table border=\"1\" class=\"dataframe\">\n",
       "  <thead>\n",
       "    <tr style=\"text-align: right;\">\n",
       "      <th></th>\n",
       "      <th>years_of_experience</th>\n",
       "      <th>profession_id</th>\n",
       "    </tr>\n",
       "  </thead>\n",
       "  <tbody>\n",
       "    <tr>\n",
       "      <th>count</th>\n",
       "      <td>30000.000000</td>\n",
       "      <td>30000.000000</td>\n",
       "    </tr>\n",
       "    <tr>\n",
       "      <th>mean</th>\n",
       "      <td>7.906867</td>\n",
       "      <td>43627.378333</td>\n",
       "    </tr>\n",
       "    <tr>\n",
       "      <th>std</th>\n",
       "      <td>8.038504</td>\n",
       "      <td>46832.667790</td>\n",
       "    </tr>\n",
       "    <tr>\n",
       "      <th>min</th>\n",
       "      <td>0.000000</td>\n",
       "      <td>5003.000000</td>\n",
       "    </tr>\n",
       "    <tr>\n",
       "      <th>25%</th>\n",
       "      <td>5.000000</td>\n",
       "      <td>5006.000000</td>\n",
       "    </tr>\n",
       "    <tr>\n",
       "      <th>50%</th>\n",
       "      <td>5.000000</td>\n",
       "      <td>5010.000000</td>\n",
       "    </tr>\n",
       "    <tr>\n",
       "      <th>75%</th>\n",
       "      <td>7.000000</td>\n",
       "      <td>100001.000000</td>\n",
       "    </tr>\n",
       "    <tr>\n",
       "      <th>max</th>\n",
       "      <td>171.000000</td>\n",
       "      <td>111656.000000</td>\n",
       "    </tr>\n",
       "  </tbody>\n",
       "</table>\n",
       "</div>"
      ],
      "text/plain": [
       "       years_of_experience  profession_id\n",
       "count         30000.000000   30000.000000\n",
       "mean              7.906867   43627.378333\n",
       "std               8.038504   46832.667790\n",
       "min               0.000000    5003.000000\n",
       "25%               5.000000    5006.000000\n",
       "50%               5.000000    5010.000000\n",
       "75%               7.000000  100001.000000\n",
       "max             171.000000  111656.000000"
      ]
     },
     "execution_count": 48,
     "metadata": {},
     "output_type": "execute_result"
    }
   ],
   "source": [
    "df.describe()"
   ]
  },
  {
   "cell_type": "code",
   "execution_count": 49,
   "metadata": {},
   "outputs": [
    {
     "data": {
      "text/plain": [
       "{'whiskers': [<matplotlib.lines.Line2D at 0x12da26518>,\n",
       "  <matplotlib.lines.Line2D at 0x12da26898>],\n",
       " 'caps': [<matplotlib.lines.Line2D at 0x12da26be0>,\n",
       "  <matplotlib.lines.Line2D at 0x12da26f28>],\n",
       " 'boxes': [<matplotlib.lines.Line2D at 0x12da263c8>],\n",
       " 'medians': [<matplotlib.lines.Line2D at 0x12d6222b0>],\n",
       " 'fliers': [<matplotlib.lines.Line2D at 0x12d6225f8>],\n",
       " 'means': []}"
      ]
     },
     "execution_count": 49,
     "metadata": {},
     "output_type": "execute_result"
    },
    {
     "data": {
      "image/png": "[encoded data removed]",
      "text/plain": [
       "<Figure size 432x288 with 1 Axes>"
      ]
     },
     "metadata": {
      "needs_background": "light"
     },
     "output_type": "display_data"
    }
   ],
   "source": [
    "plt.boxplot(df['years_of_experience'])"
   ]
  },
  {
   "cell_type": "code",
   "execution_count": 50,
   "metadata": {},
   "outputs": [
    {
     "data": {
      "text/plain": [
       "{'whiskers': [<matplotlib.lines.Line2D at 0x12d64fd30>,\n",
       "  <matplotlib.lines.Line2D at 0x12e5b70f0>],\n",
       " 'caps': [<matplotlib.lines.Line2D at 0x12e5b7438>,\n",
       "  <matplotlib.lines.Line2D at 0x12e5b7780>],\n",
       " 'boxes': [<matplotlib.lines.Line2D at 0x12d64fbe0>],\n",
       " 'medians': [<matplotlib.lines.Line2D at 0x12e5b7ac8>],\n",
       " 'fliers': [<matplotlib.lines.Line2D at 0x12e5b7e10>],\n",
       " 'means': []}"
      ]
     },
     "execution_count": 50,
     "metadata": {},
     "output_type": "execute_result"
    },
    {
     "data": {
      "image/png": "[encoded data removed]",
      "text/plain": [
       "<Figure size 432x288 with 1 Axes>"
      ]
     },
     "metadata": {
      "needs_background": "light"
     },
     "output_type": "display_data"
    }
   ],
   "source": [
    "df = df[df['years_of_experience'] < 100] \n",
    "plt.boxplot(df.loc[df['years_of_experience'], 'years_of_experience'])"
   ]
  },
  {
   "cell_type": "code",
   "execution_count": 51,
   "metadata": {},
   "outputs": [
    {
     "data": {
      "text/plain": [
       "Timestamp('2020-10-02 00:00:00')"
      ]
     },
     "execution_count": 51,
     "metadata": {},
     "output_type": "execute_result"
    }
   ],
   "source": [
    "df.start_date.max()"
   ]
  },
  {
   "cell_type": "code",
   "execution_count": 52,
   "metadata": {},
   "outputs": [
    {
     "data": {
      "text/plain": [
       "Timestamp('2018-01-17 00:00:00')"
      ]
     },
     "execution_count": 52,
     "metadata": {},
     "output_type": "execute_result"
    }
   ],
   "source": [
    "df.start_date.min()"
   ]
  },
  {
   "cell_type": "code",
   "execution_count": 53,
   "metadata": {},
   "outputs": [
    {
     "data": {
      "text/plain": [
       "Timestamp('2018-02-26 00:00:00')"
      ]
     },
     "execution_count": 53,
     "metadata": {},
     "output_type": "execute_result"
    }
   ],
   "source": [
    "df.end_date.min()"
   ]
  },
  {
   "cell_type": "code",
   "execution_count": 54,
   "metadata": {},
   "outputs": [
    {
     "data": {
      "text/plain": [
       "Timestamp('2021-10-02 00:00:00')"
      ]
     },
     "execution_count": 54,
     "metadata": {},
     "output_type": "execute_result"
    }
   ],
   "source": [
    "df.end_date.max()"
   ]
  },
  {
   "cell_type": "code",
   "execution_count": 55,
   "metadata": {},
   "outputs": [],
   "source": [
    "today = datetime.date.today()"
   ]
  },
  {
   "cell_type": "code",
   "execution_count": 56,
   "metadata": {
    "scrolled": true
   },
   "outputs": [
    {
     "name": "stderr",
     "output_type": "stream",
     "text": [
      "/Library/Frameworks/Python.framework/Versions/3.6/lib/python3.6/site-packages/ipykernel_launcher.py:1: FutureWarning: Comparing Series of datetimes with 'datetime.date'.  Currently, the\n",
      "'datetime.date' is coerced to a datetime. In the future pandas will\n",
      "not coerce, and a TypeError will be raised. To retain the current\n",
      "behavior, convert the 'datetime.date' to a datetime with\n",
      "'pd.Timestamp'.\n",
      "  \"\"\"Entry point for launching an IPython kernel.\n"
     ]
    },
    {
     "data": {
      "text/plain": [
       "5       2021-01-13\n",
       "8       2020-12-04\n",
       "9       2021-09-28\n",
       "14      2021-01-31\n",
       "22      2021-04-03\n",
       "25      2021-02-03\n",
       "26      2021-02-05\n",
       "30      2021-05-14\n",
       "32      2021-06-04\n",
       "33      2021-03-27\n",
       "36      2021-07-29\n",
       "44      2021-02-21\n",
       "45      2021-05-29\n",
       "51      2021-09-16\n",
       "52      2021-08-21\n",
       "54      2021-02-24\n",
       "57      2021-08-27\n",
       "64      2020-12-02\n",
       "73      2021-09-08\n",
       "82      2020-11-12\n",
       "84      2021-02-27\n",
       "86      2021-08-29\n",
       "87      2021-03-12\n",
       "88      2021-06-16\n",
       "95      2021-04-13\n",
       "99      2021-07-01\n",
       "103     2021-04-22\n",
       "105     2020-12-11\n",
       "107     2021-04-28\n",
       "112     2021-06-09\n",
       "           ...    \n",
       "29893   2021-09-11\n",
       "29894   2021-05-16\n",
       "29899   2020-11-25\n",
       "29901   2021-06-18\n",
       "29902   2020-12-01\n",
       "29904   2021-03-31\n",
       "29910   2021-03-23\n",
       "29914   2021-04-13\n",
       "29916   2021-05-01\n",
       "29919   2021-04-28\n",
       "29924   2021-08-26\n",
       "29931   2021-09-30\n",
       "29934   2021-06-05\n",
       "29945   2020-12-16\n",
       "29955   2021-05-10\n",
       "29960   2021-02-10\n",
       "29963   2021-09-22\n",
       "29965   2021-09-10\n",
       "29966   2021-04-23\n",
       "29968   2021-05-11\n",
       "29970   2021-03-09\n",
       "29974   2021-08-24\n",
       "29981   2021-03-18\n",
       "29982   2020-12-31\n",
       "29983   2020-11-27\n",
       "29986   2021-07-08\n",
       "29987   2021-03-10\n",
       "29988   2021-03-10\n",
       "29997   2021-02-24\n",
       "29998   2020-11-18\n",
       "Name: end_date, Length: 8820, dtype: datetime64[ns]"
      ]
     },
     "execution_count": 56,
     "metadata": {},
     "output_type": "execute_result"
    }
   ],
   "source": [
    "df.loc[df['end_date'] > today, 'end_date']"
   ]
  },
  {
   "cell_type": "code",
   "execution_count": 57,
   "metadata": {
    "scrolled": true
   },
   "outputs": [
    {
     "data": {
      "text/html": [
       "<div>\n",
       "<style scoped>\n",
       "    .dataframe tbody tr th:only-of-type {\n",
       "        vertical-align: middle;\n",
       "    }\n",
       "\n",
       "    .dataframe tbody tr th {\n",
       "        vertical-align: top;\n",
       "    }\n",
       "\n",
       "    .dataframe thead th {\n",
       "        text-align: right;\n",
       "    }\n",
       "</style>\n",
       "<table border=\"1\" class=\"dataframe\">\n",
       "  <thead>\n",
       "    <tr style=\"text-align: right;\">\n",
       "      <th></th>\n",
       "      <th>customer_id</th>\n",
       "      <th>start_date</th>\n",
       "      <th>end_date</th>\n",
       "      <th>years_of_experience</th>\n",
       "      <th>channel</th>\n",
       "      <th>geo</th>\n",
       "      <th>profession_id</th>\n",
       "      <th>cancellation_reason</th>\n",
       "      <th>start_plus_1</th>\n",
       "    </tr>\n",
       "  </thead>\n",
       "  <tbody>\n",
       "  </tbody>\n",
       "</table>\n",
       "</div>"
      ],
      "text/plain": [
       "Empty DataFrame\n",
       "Columns: [customer_id, start_date, end_date, years_of_experience, channel, geo, profession_id, cancellation_reason, start_plus_1]\n",
       "Index: []"
      ]
     },
     "execution_count": 57,
     "metadata": {},
     "output_type": "execute_result"
    }
   ],
   "source": [
    "df['start_plus_1'] = df['start_date'] + pd.DateOffset(years=1)\n",
    "df.loc[df['end_date'] > df['start_plus_1'],]"
   ]
  },
  {
   "cell_type": "code",
   "execution_count": 58,
   "metadata": {
    "scrolled": true
   },
   "outputs": [
    {
     "name": "stdout",
     "output_type": "stream",
     "text": [
      "sem              16853\n",
      "agents            4434\n",
      "organic           3172\n",
      "social            1921\n",
      "channel sales     1277\n",
      "direct             792\n",
      "display            512\n",
      "support            392\n",
      "video              391\n",
      "email              153\n",
      "unknown             31\n",
      "native               5\n",
      "Name: channel, dtype: int64\n",
      "12\n",
      "FL    3482\n",
      "CO    3398\n",
      "CA    2805\n",
      "TX    1753\n",
      "GA    1289\n",
      "PA    1145\n",
      "NC    1027\n",
      "OH     962\n",
      "NJ     960\n",
      "MI     824\n",
      "IL     819\n",
      "OR     744\n",
      "MA     719\n",
      "VA     693\n",
      "SC     639\n",
      "TN     599\n",
      "IN     524\n",
      "MO     481\n",
      "AL     462\n",
      "WA     459\n",
      "KY     441\n",
      "WI     431\n",
      "MN     424\n",
      "AZ     421\n",
      "ME     341\n",
      "MD     312\n",
      "OK     292\n",
      "CT     287\n",
      "ID     285\n",
      "UT     280\n",
      "NH     279\n",
      "MT     253\n",
      "KS     244\n",
      "IA     216\n",
      "AR     203\n",
      "RI     203\n",
      "LA     203\n",
      "NE     134\n",
      "MS     131\n",
      "NM     131\n",
      "DE     117\n",
      "NV     113\n",
      "WV      91\n",
      "VT      86\n",
      "WY      69\n",
      "SD      63\n",
      "ND      60\n",
      "AK      44\n",
      "HI      33\n",
      "DC      28\n",
      "Name: geo, dtype: int64\n",
      "50\n",
      "100001    6680\n",
      "5006      5789\n",
      "5005      3385\n",
      "5010      2604\n",
      "5003      1954\n",
      "5013      1102\n",
      "100003    1052\n",
      "100002    1049\n",
      "100042     860\n",
      "5007       785\n",
      "5008       636\n",
      "100019     508\n",
      "5012       492\n",
      "5009       448\n",
      "5011       423\n",
      "100005     249\n",
      "100043     241\n",
      "5014       232\n",
      "100008     202\n",
      "100004     184\n",
      "100006     171\n",
      "100041     169\n",
      "100040     148\n",
      "100045     124\n",
      "100009     123\n",
      "111653      98\n",
      "111642      66\n",
      "111643      57\n",
      "111648      35\n",
      "111654      29\n",
      "111644      21\n",
      "111646      19\n",
      "111649      13\n",
      "111641      12\n",
      "111652       9\n",
      "111645       7\n",
      "100007       6\n",
      "110610       5\n",
      "110753       5\n",
      "110756       4\n",
      "111651       2\n",
      "111656       1\n",
      "Name: profession_id, dtype: int64\n",
      "42\n",
      "Non-Payment                                                                 4882\n",
      "Insured is no longer in business                                            2001\n",
      "I had a short-term need for insurance that has ended                        1470\n",
      "Other reason (describe in notes)                                             389\n",
      "I need coverage you can't provide                                            352\n",
      "Insured found better coverage elsewhere at same price                        346\n",
      "I don't see the value of having insurance anymore                            310\n",
      "Waiver of subrogation                                                        298\n",
      "Insured is covered by employer                                               174\n",
      "Change operations/COB                                                        122\n",
      "Unsigned terms and conditions                                                 99\n",
      "Change business structure to/from Individual                                  96\n",
      "Carrier post-purchase decline                                                 50\n",
      "Insured needs coverage or change we can't support (describe in notes)         49\n",
      "Add/Remove employees                                                          38\n",
      "No longer needed                                                              35\n",
      "Insured found better price elsewhere                                          23\n",
      "Change named insured                                                          22\n",
      "No insurance                                                                  21\n",
      "Insured can no longer afford the policy                                       13\n",
      "Change future effective date to be sooner                                     13\n",
      "Carrier cancellation                                                          12\n",
      "Refunded - duplicate                                                          11\n",
      "Change loss costs                                                             10\n",
      "Insured performs work that the policy does not cover (describe in notes)      10\n",
      "Change residential/commercial percentage from 0 to non-zero                    8\n",
      "Insured does seasonal or temporary work                                        8\n",
      "Refunded - cancel rewrite                                                      7\n",
      "Coverage Needs Changed                                                         6\n",
      "No longer in business                                                          3\n",
      "Covered by employer                                                            2\n",
      "Better Coverage                                                                2\n",
      "Better Price                                                                   2\n",
      "Name: cancellation_reason, dtype: int64\n",
      "33\n"
     ]
    }
   ],
   "source": [
    "for col in ['channel', 'geo', 'profession_id', 'cancellation_reason']:\n",
    "    print(df[col].value_counts())\n",
    "    print(len(df[col].value_counts()))"
   ]
  },
  {
   "cell_type": "code",
   "execution_count": null,
   "metadata": {},
   "outputs": [],
   "source": []
  },
  {
   "cell_type": "code",
   "execution_count": 59,
   "metadata": {
    "scrolled": true
   },
   "outputs": [
    {
     "data": {
      "text/html": [
       "<div>\n",
       "<style scoped>\n",
       "    .dataframe tbody tr th:only-of-type {\n",
       "        vertical-align: middle;\n",
       "    }\n",
       "\n",
       "    .dataframe tbody tr th {\n",
       "        vertical-align: top;\n",
       "    }\n",
       "\n",
       "    .dataframe thead th {\n",
       "        text-align: right;\n",
       "    }\n",
       "</style>\n",
       "<table border=\"1\" class=\"dataframe\">\n",
       "  <thead>\n",
       "    <tr style=\"text-align: right;\">\n",
       "      <th></th>\n",
       "      <th>customer_id</th>\n",
       "      <th>start_date</th>\n",
       "      <th>end_date</th>\n",
       "      <th>years_of_experience</th>\n",
       "      <th>channel</th>\n",
       "      <th>geo</th>\n",
       "      <th>profession_id</th>\n",
       "      <th>cancellation_reason</th>\n",
       "      <th>start_plus_1</th>\n",
       "      <th>channel_transformed</th>\n",
       "      <th>geo_transformed</th>\n",
       "    </tr>\n",
       "  </thead>\n",
       "  <tbody>\n",
       "    <tr>\n",
       "      <th>0</th>\n",
       "      <td>d18013b0edd9a43a0fdb67c8cfbc3342</td>\n",
       "      <td>2019-09-05</td>\n",
       "      <td>2019-11-04</td>\n",
       "      <td>5.0</td>\n",
       "      <td>channel sales</td>\n",
       "      <td>TX</td>\n",
       "      <td>5010</td>\n",
       "      <td>Non-Payment</td>\n",
       "      <td>2020-09-05</td>\n",
       "      <td>1</td>\n",
       "      <td>42</td>\n",
       "    </tr>\n",
       "    <tr>\n",
       "      <th>1</th>\n",
       "      <td>9f618809d3a625ddd81ce0d8237c99dd</td>\n",
       "      <td>2020-02-24</td>\n",
       "      <td>2020-04-14</td>\n",
       "      <td>5.0</td>\n",
       "      <td>organic</td>\n",
       "      <td>OH</td>\n",
       "      <td>100003</td>\n",
       "      <td>Insured is no longer in business</td>\n",
       "      <td>2021-02-24</td>\n",
       "      <td>6</td>\n",
       "      <td>34</td>\n",
       "    </tr>\n",
       "    <tr>\n",
       "      <th>2</th>\n",
       "      <td>47e9c803736f0999430324aaaba6046c</td>\n",
       "      <td>2019-08-26</td>\n",
       "      <td>2019-10-26</td>\n",
       "      <td>5.0</td>\n",
       "      <td>sem</td>\n",
       "      <td>FL</td>\n",
       "      <td>5006</td>\n",
       "      <td>Non-Payment</td>\n",
       "      <td>2020-08-26</td>\n",
       "      <td>7</td>\n",
       "      <td>9</td>\n",
       "    </tr>\n",
       "    <tr>\n",
       "      <th>3</th>\n",
       "      <td>825463b772f05057975b61988718e6af</td>\n",
       "      <td>2019-10-09</td>\n",
       "      <td>2019-11-18</td>\n",
       "      <td>10.0</td>\n",
       "      <td>sem</td>\n",
       "      <td>OH</td>\n",
       "      <td>100001</td>\n",
       "      <td>I had a short-term need for insurance that has...</td>\n",
       "      <td>2020-10-09</td>\n",
       "      <td>7</td>\n",
       "      <td>34</td>\n",
       "    </tr>\n",
       "    <tr>\n",
       "      <th>4</th>\n",
       "      <td>66a8c47b8ecaaed6fc1031b1d9ab1e3c</td>\n",
       "      <td>2019-04-08</td>\n",
       "      <td>2020-04-08</td>\n",
       "      <td>5.0</td>\n",
       "      <td>sem</td>\n",
       "      <td>MD</td>\n",
       "      <td>100040</td>\n",
       "      <td>NaN</td>\n",
       "      <td>2020-04-08</td>\n",
       "      <td>7</td>\n",
       "      <td>20</td>\n",
       "    </tr>\n",
       "  </tbody>\n",
       "</table>\n",
       "</div>"
      ],
      "text/plain": [
       "                        customer_id start_date   end_date  \\\n",
       "0  d18013b0edd9a43a0fdb67c8cfbc3342 2019-09-05 2019-11-04   \n",
       "1  9f618809d3a625ddd81ce0d8237c99dd 2020-02-24 2020-04-14   \n",
       "2  47e9c803736f0999430324aaaba6046c 2019-08-26 2019-10-26   \n",
       "3  825463b772f05057975b61988718e6af 2019-10-09 2019-11-18   \n",
       "4  66a8c47b8ecaaed6fc1031b1d9ab1e3c 2019-04-08 2020-04-08   \n",
       "\n",
       "   years_of_experience        channel geo  profession_id  \\\n",
       "0                  5.0  channel sales  TX           5010   \n",
       "1                  5.0        organic  OH         100003   \n",
       "2                  5.0            sem  FL           5006   \n",
       "3                 10.0            sem  OH         100001   \n",
       "4                  5.0            sem  MD         100040   \n",
       "\n",
       "                                 cancellation_reason start_plus_1  \\\n",
       "0                                        Non-Payment   2020-09-05   \n",
       "1                   Insured is no longer in business   2021-02-24   \n",
       "2                                        Non-Payment   2020-08-26   \n",
       "3  I had a short-term need for insurance that has...   2020-10-09   \n",
       "4                                                NaN   2020-04-08   \n",
       "\n",
       "   channel_transformed  geo_transformed  \n",
       "0                    1               42  \n",
       "1                    6               34  \n",
       "2                    7                9  \n",
       "3                    7               34  \n",
       "4                    7               20  "
      ]
     },
     "execution_count": 59,
     "metadata": {},
     "output_type": "execute_result"
    }
   ],
   "source": [
    "cols = ['channel', 'geo']\n",
    "le = preprocessing.LabelEncoder()\n",
    "for col in cols:\n",
    "    df[f'{col}_transformed'] = le.fit_transform(df[col].fillna('unknown'))\n",
    "df.head()"
   ]
  },
  {
   "cell_type": "code",
   "execution_count": null,
   "metadata": {},
   "outputs": [],
   "source": []
  },
  {
   "cell_type": "code",
   "execution_count": 60,
   "metadata": {},
   "outputs": [
    {
     "data": {
      "text/html": [
       "<div>\n",
       "<style scoped>\n",
       "    .dataframe tbody tr th:only-of-type {\n",
       "        vertical-align: middle;\n",
       "    }\n",
       "\n",
       "    .dataframe tbody tr th {\n",
       "        vertical-align: top;\n",
       "    }\n",
       "\n",
       "    .dataframe thead th {\n",
       "        text-align: right;\n",
       "    }\n",
       "</style>\n",
       "<table border=\"1\" class=\"dataframe\">\n",
       "  <thead>\n",
       "    <tr style=\"text-align: right;\">\n",
       "      <th></th>\n",
       "      <th>customer_id</th>\n",
       "      <th>start_date</th>\n",
       "      <th>end_date</th>\n",
       "      <th>years_of_experience</th>\n",
       "      <th>channel</th>\n",
       "      <th>geo</th>\n",
       "      <th>profession_id</th>\n",
       "      <th>cancellation_reason</th>\n",
       "      <th>start_plus_1</th>\n",
       "      <th>channel_transformed</th>\n",
       "      <th>geo_transformed</th>\n",
       "      <th>churned</th>\n",
       "    </tr>\n",
       "  </thead>\n",
       "  <tbody>\n",
       "    <tr>\n",
       "      <th>0</th>\n",
       "      <td>d18013b0edd9a43a0fdb67c8cfbc3342</td>\n",
       "      <td>2019-09-05</td>\n",
       "      <td>2019-11-04</td>\n",
       "      <td>5.0</td>\n",
       "      <td>channel sales</td>\n",
       "      <td>TX</td>\n",
       "      <td>5010</td>\n",
       "      <td>Non-Payment</td>\n",
       "      <td>2020-09-05</td>\n",
       "      <td>1</td>\n",
       "      <td>42</td>\n",
       "      <td>1</td>\n",
       "    </tr>\n",
       "    <tr>\n",
       "      <th>1</th>\n",
       "      <td>9f618809d3a625ddd81ce0d8237c99dd</td>\n",
       "      <td>2020-02-24</td>\n",
       "      <td>2020-04-14</td>\n",
       "      <td>5.0</td>\n",
       "      <td>organic</td>\n",
       "      <td>OH</td>\n",
       "      <td>100003</td>\n",
       "      <td>Insured is no longer in business</td>\n",
       "      <td>2021-02-24</td>\n",
       "      <td>6</td>\n",
       "      <td>34</td>\n",
       "      <td>1</td>\n",
       "    </tr>\n",
       "    <tr>\n",
       "      <th>2</th>\n",
       "      <td>47e9c803736f0999430324aaaba6046c</td>\n",
       "      <td>2019-08-26</td>\n",
       "      <td>2019-10-26</td>\n",
       "      <td>5.0</td>\n",
       "      <td>sem</td>\n",
       "      <td>FL</td>\n",
       "      <td>5006</td>\n",
       "      <td>Non-Payment</td>\n",
       "      <td>2020-08-26</td>\n",
       "      <td>7</td>\n",
       "      <td>9</td>\n",
       "      <td>1</td>\n",
       "    </tr>\n",
       "    <tr>\n",
       "      <th>3</th>\n",
       "      <td>825463b772f05057975b61988718e6af</td>\n",
       "      <td>2019-10-09</td>\n",
       "      <td>2019-11-18</td>\n",
       "      <td>10.0</td>\n",
       "      <td>sem</td>\n",
       "      <td>OH</td>\n",
       "      <td>100001</td>\n",
       "      <td>I had a short-term need for insurance that has...</td>\n",
       "      <td>2020-10-09</td>\n",
       "      <td>7</td>\n",
       "      <td>34</td>\n",
       "      <td>1</td>\n",
       "    </tr>\n",
       "    <tr>\n",
       "      <th>4</th>\n",
       "      <td>66a8c47b8ecaaed6fc1031b1d9ab1e3c</td>\n",
       "      <td>2019-04-08</td>\n",
       "      <td>2020-04-08</td>\n",
       "      <td>5.0</td>\n",
       "      <td>sem</td>\n",
       "      <td>MD</td>\n",
       "      <td>100040</td>\n",
       "      <td>NaN</td>\n",
       "      <td>2020-04-08</td>\n",
       "      <td>7</td>\n",
       "      <td>20</td>\n",
       "      <td>0</td>\n",
       "    </tr>\n",
       "  </tbody>\n",
       "</table>\n",
       "</div>"
      ],
      "text/plain": [
       "                        customer_id start_date   end_date  \\\n",
       "0  d18013b0edd9a43a0fdb67c8cfbc3342 2019-09-05 2019-11-04   \n",
       "1  9f618809d3a625ddd81ce0d8237c99dd 2020-02-24 2020-04-14   \n",
       "2  47e9c803736f0999430324aaaba6046c 2019-08-26 2019-10-26   \n",
       "3  825463b772f05057975b61988718e6af 2019-10-09 2019-11-18   \n",
       "4  66a8c47b8ecaaed6fc1031b1d9ab1e3c 2019-04-08 2020-04-08   \n",
       "\n",
       "   years_of_experience        channel geo  profession_id  \\\n",
       "0                  5.0  channel sales  TX           5010   \n",
       "1                  5.0        organic  OH         100003   \n",
       "2                  5.0            sem  FL           5006   \n",
       "3                 10.0            sem  OH         100001   \n",
       "4                  5.0            sem  MD         100040   \n",
       "\n",
       "                                 cancellation_reason start_plus_1  \\\n",
       "0                                        Non-Payment   2020-09-05   \n",
       "1                   Insured is no longer in business   2021-02-24   \n",
       "2                                        Non-Payment   2020-08-26   \n",
       "3  I had a short-term need for insurance that has...   2020-10-09   \n",
       "4                                                NaN   2020-04-08   \n",
       "\n",
       "   channel_transformed  geo_transformed  churned  \n",
       "0                    1               42        1  \n",
       "1                    6               34        1  \n",
       "2                    7                9        1  \n",
       "3                    7               34        1  \n",
       "4                    7               20        0  "
      ]
     },
     "execution_count": 60,
     "metadata": {},
     "output_type": "execute_result"
    }
   ],
   "source": [
    "df['churned'] = np.where(df['start_plus_1'] > df['end_date'], 1, 0)\n",
    "df.head()"
   ]
  },
  {
   "cell_type": "code",
   "execution_count": 61,
   "metadata": {},
   "outputs": [
    {
     "data": {
      "text/plain": [
       "0    19123\n",
       "1    10876\n",
       "Name: churned, dtype: int64"
      ]
     },
     "execution_count": 61,
     "metadata": {},
     "output_type": "execute_result"
    }
   ],
   "source": [
    "df['churned'].value_counts()"
   ]
  },
  {
   "cell_type": "code",
   "execution_count": 96,
   "metadata": {},
   "outputs": [
    {
     "data": {
      "text/plain": [
       "0.637454581819394"
      ]
     },
     "execution_count": 96,
     "metadata": {},
     "output_type": "execute_result"
    }
   ],
   "source": [
    "19123 / (19123 + 10876)"
   ]
  },
  {
   "cell_type": "code",
   "execution_count": 98,
   "metadata": {},
   "outputs": [
    {
     "data": {
      "text/html": [
       "<div>\n",
       "<style scoped>\n",
       "    .dataframe tbody tr th:only-of-type {\n",
       "        vertical-align: middle;\n",
       "    }\n",
       "\n",
       "    .dataframe tbody tr th {\n",
       "        vertical-align: top;\n",
       "    }\n",
       "\n",
       "    .dataframe thead th {\n",
       "        text-align: right;\n",
       "    }\n",
       "</style>\n",
       "<table border=\"1\" class=\"dataframe\">\n",
       "  <thead>\n",
       "    <tr style=\"text-align: right;\">\n",
       "      <th></th>\n",
       "      <th>customer_id</th>\n",
       "      <th>start_date</th>\n",
       "      <th>end_date</th>\n",
       "      <th>years_of_experience</th>\n",
       "      <th>channel</th>\n",
       "      <th>geo</th>\n",
       "      <th>profession_id</th>\n",
       "      <th>cancellation_reason</th>\n",
       "      <th>start_plus_1</th>\n",
       "      <th>channel_transformed</th>\n",
       "      <th>geo_transformed</th>\n",
       "      <th>churned</th>\n",
       "      <th>yhat</th>\n",
       "      <th>random</th>\n",
       "    </tr>\n",
       "  </thead>\n",
       "  <tbody>\n",
       "    <tr>\n",
       "      <th>0</th>\n",
       "      <td>d18013b0edd9a43a0fdb67c8cfbc3342</td>\n",
       "      <td>2019-09-05</td>\n",
       "      <td>2019-11-04</td>\n",
       "      <td>5.0</td>\n",
       "      <td>channel sales</td>\n",
       "      <td>TX</td>\n",
       "      <td>5010</td>\n",
       "      <td>Non-Payment</td>\n",
       "      <td>2020-09-05</td>\n",
       "      <td>1</td>\n",
       "      <td>42</td>\n",
       "      <td>1</td>\n",
       "      <td>0</td>\n",
       "      <td>0.766635</td>\n",
       "    </tr>\n",
       "    <tr>\n",
       "      <th>1</th>\n",
       "      <td>9f618809d3a625ddd81ce0d8237c99dd</td>\n",
       "      <td>2020-02-24</td>\n",
       "      <td>2020-04-14</td>\n",
       "      <td>5.0</td>\n",
       "      <td>organic</td>\n",
       "      <td>OH</td>\n",
       "      <td>100003</td>\n",
       "      <td>Insured is no longer in business</td>\n",
       "      <td>2021-02-24</td>\n",
       "      <td>6</td>\n",
       "      <td>34</td>\n",
       "      <td>1</td>\n",
       "      <td>0</td>\n",
       "      <td>0.780608</td>\n",
       "    </tr>\n",
       "    <tr>\n",
       "      <th>2</th>\n",
       "      <td>47e9c803736f0999430324aaaba6046c</td>\n",
       "      <td>2019-08-26</td>\n",
       "      <td>2019-10-26</td>\n",
       "      <td>5.0</td>\n",
       "      <td>sem</td>\n",
       "      <td>FL</td>\n",
       "      <td>5006</td>\n",
       "      <td>Non-Payment</td>\n",
       "      <td>2020-08-26</td>\n",
       "      <td>7</td>\n",
       "      <td>9</td>\n",
       "      <td>1</td>\n",
       "      <td>0</td>\n",
       "      <td>0.815802</td>\n",
       "    </tr>\n",
       "    <tr>\n",
       "      <th>3</th>\n",
       "      <td>825463b772f05057975b61988718e6af</td>\n",
       "      <td>2019-10-09</td>\n",
       "      <td>2019-11-18</td>\n",
       "      <td>10.0</td>\n",
       "      <td>sem</td>\n",
       "      <td>OH</td>\n",
       "      <td>100001</td>\n",
       "      <td>I had a short-term need for insurance that has...</td>\n",
       "      <td>2020-10-09</td>\n",
       "      <td>7</td>\n",
       "      <td>34</td>\n",
       "      <td>1</td>\n",
       "      <td>0</td>\n",
       "      <td>0.941765</td>\n",
       "    </tr>\n",
       "    <tr>\n",
       "      <th>4</th>\n",
       "      <td>66a8c47b8ecaaed6fc1031b1d9ab1e3c</td>\n",
       "      <td>2019-04-08</td>\n",
       "      <td>2020-04-08</td>\n",
       "      <td>5.0</td>\n",
       "      <td>sem</td>\n",
       "      <td>MD</td>\n",
       "      <td>100040</td>\n",
       "      <td>NaN</td>\n",
       "      <td>2020-04-08</td>\n",
       "      <td>7</td>\n",
       "      <td>20</td>\n",
       "      <td>0</td>\n",
       "      <td>0</td>\n",
       "      <td>0.051251</td>\n",
       "    </tr>\n",
       "  </tbody>\n",
       "</table>\n",
       "</div>"
      ],
      "text/plain": [
       "                        customer_id start_date   end_date  \\\n",
       "0  d18013b0edd9a43a0fdb67c8cfbc3342 2019-09-05 2019-11-04   \n",
       "1  9f618809d3a625ddd81ce0d8237c99dd 2020-02-24 2020-04-14   \n",
       "2  47e9c803736f0999430324aaaba6046c 2019-08-26 2019-10-26   \n",
       "3  825463b772f05057975b61988718e6af 2019-10-09 2019-11-18   \n",
       "4  66a8c47b8ecaaed6fc1031b1d9ab1e3c 2019-04-08 2020-04-08   \n",
       "\n",
       "   years_of_experience        channel geo  profession_id  \\\n",
       "0                  5.0  channel sales  TX           5010   \n",
       "1                  5.0        organic  OH         100003   \n",
       "2                  5.0            sem  FL           5006   \n",
       "3                 10.0            sem  OH         100001   \n",
       "4                  5.0            sem  MD         100040   \n",
       "\n",
       "                                 cancellation_reason start_plus_1  \\\n",
       "0                                        Non-Payment   2020-09-05   \n",
       "1                   Insured is no longer in business   2021-02-24   \n",
       "2                                        Non-Payment   2020-08-26   \n",
       "3  I had a short-term need for insurance that has...   2020-10-09   \n",
       "4                                                NaN   2020-04-08   \n",
       "\n",
       "   channel_transformed  geo_transformed  churned  yhat    random  \n",
       "0                    1               42        1     0  0.766635  \n",
       "1                    6               34        1     0  0.780608  \n",
       "2                    7                9        1     0  0.815802  \n",
       "3                    7               34        1     0  0.941765  \n",
       "4                    7               20        0     0  0.051251  "
      ]
     },
     "execution_count": 98,
     "metadata": {},
     "output_type": "execute_result"
    }
   ],
   "source": [
    "df['random'] = np.random.random(size=df.shape[0])\n",
    "df.head()"
   ]
  },
  {
   "cell_type": "code",
   "execution_count": 99,
   "metadata": {},
   "outputs": [
    {
     "data": {
      "text/plain": [
       "0.49812731222203926"
      ]
     },
     "execution_count": 99,
     "metadata": {},
     "output_type": "execute_result"
    }
   ],
   "source": [
    "np.mean(df['random'])"
   ]
  },
  {
   "cell_type": "code",
   "execution_count": null,
   "metadata": {},
   "outputs": [],
   "source": []
  },
  {
   "cell_type": "code",
   "execution_count": null,
   "metadata": {},
   "outputs": [],
   "source": []
  },
  {
   "cell_type": "code",
   "execution_count": 87,
   "metadata": {},
   "outputs": [],
   "source": [
    "X = df[['years_of_experience', 'channel_transformed', 'geo_transformed', 'profession_id']]\n",
    "y = df.churned"
   ]
  },
  {
   "cell_type": "code",
   "execution_count": 88,
   "metadata": {},
   "outputs": [
    {
     "data": {
      "text/plain": [
       "years_of_experience    0\n",
       "channel_transformed    0\n",
       "geo_transformed        0\n",
       "profession_id          0\n",
       "dtype: int64"
      ]
     },
     "execution_count": 88,
     "metadata": {},
     "output_type": "execute_result"
    }
   ],
   "source": [
    "X.isna().sum()"
   ]
  },
  {
   "cell_type": "code",
   "execution_count": 89,
   "metadata": {},
   "outputs": [],
   "source": [
    "X_train, X_test, y_train, y_test = train_test_split(X, y, random_state=17, test_size=0.2)"
   ]
  },
  {
   "cell_type": "code",
   "execution_count": 90,
   "metadata": {
    "scrolled": true
   },
   "outputs": [
    {
     "data": {
      "text/plain": [
       "RandomForestClassifier()"
      ]
     },
     "execution_count": 90,
     "metadata": {},
     "output_type": "execute_result"
    }
   ],
   "source": [
    "rf = RandomForestClassifier()\n",
    "rf.fit(X_train, y_train)\n"
   ]
  },
  {
   "cell_type": "code",
   "execution_count": 92,
   "metadata": {
    "scrolled": true
   },
   "outputs": [],
   "source": [
    "df['yhat'] = rf.predict(X)\n",
    "test_df = pd.concat([X_test, y_test], axis=1)\n",
    "test_df['yhat'] = rf.predict_proba(X_test)[:,1]\n"
   ]
  },
  {
   "cell_type": "code",
   "execution_count": 93,
   "metadata": {
    "scrolled": true
   },
   "outputs": [
    {
     "data": {
      "text/html": [
       "<div>\n",
       "<style scoped>\n",
       "    .dataframe tbody tr th:only-of-type {\n",
       "        vertical-align: middle;\n",
       "    }\n",
       "\n",
       "    .dataframe tbody tr th {\n",
       "        vertical-align: top;\n",
       "    }\n",
       "\n",
       "    .dataframe thead th {\n",
       "        text-align: right;\n",
       "    }\n",
       "</style>\n",
       "<table border=\"1\" class=\"dataframe\">\n",
       "  <thead>\n",
       "    <tr style=\"text-align: right;\">\n",
       "      <th></th>\n",
       "      <th>years_of_experience</th>\n",
       "      <th>channel_transformed</th>\n",
       "      <th>geo_transformed</th>\n",
       "      <th>profession_id</th>\n",
       "      <th>churned</th>\n",
       "      <th>yhat</th>\n",
       "    </tr>\n",
       "  </thead>\n",
       "  <tbody>\n",
       "    <tr>\n",
       "      <th>15853</th>\n",
       "      <td>5.0</td>\n",
       "      <td>6</td>\n",
       "      <td>4</td>\n",
       "      <td>5010</td>\n",
       "      <td>0</td>\n",
       "      <td>0.120256</td>\n",
       "    </tr>\n",
       "    <tr>\n",
       "      <th>7388</th>\n",
       "      <td>5.0</td>\n",
       "      <td>1</td>\n",
       "      <td>19</td>\n",
       "      <td>5013</td>\n",
       "      <td>1</td>\n",
       "      <td>0.243155</td>\n",
       "    </tr>\n",
       "    <tr>\n",
       "      <th>1799</th>\n",
       "      <td>40.0</td>\n",
       "      <td>7</td>\n",
       "      <td>3</td>\n",
       "      <td>100001</td>\n",
       "      <td>1</td>\n",
       "      <td>0.064973</td>\n",
       "    </tr>\n",
       "    <tr>\n",
       "      <th>735</th>\n",
       "      <td>5.0</td>\n",
       "      <td>6</td>\n",
       "      <td>14</td>\n",
       "      <td>5003</td>\n",
       "      <td>0</td>\n",
       "      <td>0.113681</td>\n",
       "    </tr>\n",
       "    <tr>\n",
       "      <th>10822</th>\n",
       "      <td>10.0</td>\n",
       "      <td>0</td>\n",
       "      <td>10</td>\n",
       "      <td>100001</td>\n",
       "      <td>0</td>\n",
       "      <td>0.564333</td>\n",
       "    </tr>\n",
       "  </tbody>\n",
       "</table>\n",
       "</div>"
      ],
      "text/plain": [
       "       years_of_experience  channel_transformed  geo_transformed  \\\n",
       "15853                  5.0                    6                4   \n",
       "7388                   5.0                    1               19   \n",
       "1799                  40.0                    7                3   \n",
       "735                    5.0                    6               14   \n",
       "10822                 10.0                    0               10   \n",
       "\n",
       "       profession_id  churned      yhat  \n",
       "15853           5010        0  0.120256  \n",
       "7388            5013        1  0.243155  \n",
       "1799          100001        1  0.064973  \n",
       "735             5003        0  0.113681  \n",
       "10822         100001        0  0.564333  "
      ]
     },
     "execution_count": 93,
     "metadata": {},
     "output_type": "execute_result"
    }
   ],
   "source": [
    "test_df.head()"
   ]
  },
  {
   "cell_type": "code",
   "execution_count": 95,
   "metadata": {},
   "outputs": [
    {
     "data": {
      "text/plain": [
       "0.5945614008404347"
      ]
     },
     "execution_count": 95,
     "metadata": {},
     "output_type": "execute_result"
    }
   ],
   "source": [
    "roc_auc_score(test_df['churned'], test_df['yhat'])"
   ]
  },
  {
   "cell_type": "code",
   "execution_count": 100,
   "metadata": {},
   "outputs": [
    {
     "data": {
      "text/plain": [
       "0.5000136887011835"
      ]
     },
     "execution_count": 100,
     "metadata": {},
     "output_type": "execute_result"
    }
   ],
   "source": [
    "roc_auc_score(df['churned'], df['random'])"
   ]
  },
  {
   "cell_type": "code",
   "execution_count": 102,
   "metadata": {},
   "outputs": [
    {
     "data": {
      "text/plain": [
       "0.8673928238322872"
      ]
     },
     "execution_count": 102,
     "metadata": {},
     "output_type": "execute_result"
    }
   ],
   "source": [
    "train_df = pd.concat([X_train, y_train], axis=1)\n",
    "train_df['yhat'] = rf.predict_proba(X_train)[:,1]\n",
    "roc_auc_score(train_df['churned'], train_df['yhat'])"
   ]
  },
  {
   "cell_type": "code",
   "execution_count": null,
   "metadata": {},
   "outputs": [],
   "source": []
  },
  {
   "cell_type": "code",
   "execution_count": 105,
   "metadata": {},
   "outputs": [
    {
     "data": {
      "text/plain": [
       "RandomForestClassifier(max_depth=5)"
      ]
     },
     "execution_count": 105,
     "metadata": {},
     "output_type": "execute_result"
    }
   ],
   "source": [
    "rf2 = RandomForestClassifier(max_depth=5)\n",
    "rf2.fit(X_train, y_train)\n"
   ]
  },
  {
   "cell_type": "code",
   "execution_count": 106,
   "metadata": {},
   "outputs": [],
   "source": [
    "df['yhat2'] = rf2.predict(X)\n",
    "test_df['yhat2'] = rf2.predict_proba(X_test)[:,1]\n"
   ]
  },
  {
   "cell_type": "code",
   "execution_count": 107,
   "metadata": {},
   "outputs": [
    {
     "data": {
      "text/plain": [
       "0.628924177394208"
      ]
     },
     "execution_count": 107,
     "metadata": {},
     "output_type": "execute_result"
    }
   ],
   "source": [
    "roc_auc_score(test_df['churned'], test_df['yhat2'])"
   ]
  },
  {
   "cell_type": "code",
   "execution_count": null,
   "metadata": {},
   "outputs": [],
   "source": []
  },
  {
   "cell_type": "code",
   "execution_count": null,
   "metadata": {},
   "outputs": [],
   "source": []
  }
 ],
 "metadata": {
  "kernelspec": {
   "display_name": "Python 3",
   "language": "python",
   "name": "python3"
  },
  "language_info": {
   "codemirror_mode": {
    "name": "ipython",
    "version": 3
   },
   "file_extension": ".py",
   "mimetype": "text/x-python",
   "name": "python",
   "nbconvert_exporter": "python",
   "pygments_lexer": "ipython3",
   "version": "3.6.5"
  }
 },
 "nbformat": 4,
 "nbformat_minor": 4
}

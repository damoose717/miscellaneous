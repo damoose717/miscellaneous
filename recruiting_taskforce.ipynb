{
 "cells": [
  {
   "cell_type": "code",
   "execution_count": null,
   "metadata": {},
   "outputs": [],
   "source": [
    "import pandas as pd\n",
    "import numpy as np\n",
    "pd.set_option('max_columns', 100)\n",
    "\n",
    "import matplotlib as mpl\n",
    "import matplotlib.pyplot as plt\n",
    "\n",
    "default_colors = plt.rcParams['axes.prop_cycle'].by_key()['color']\n"
   ]
  },
  {
   "cell_type": "code",
   "execution_count": null,
   "metadata": {},
   "outputs": [],
   "source": [
    "mpl.rcParams['figure.facecolor'] = 'white'\n",
    "plt.rcParams['figure.figsize'] = (8.0, 6.0)\n",
    "\n",
    "mpl.rcParams.update({'font.size': 16})\n",
    "mpl.rc('axes', linewidth=2)\n",
    "mpl.rcParams.update({'xtick.minor.visible':True})\n",
    "mpl.rcParams.update({'ytick.minor.visible':True})\n",
    "mpl.rcParams.update({'xtick.major.size'   : 10 })\n",
    "mpl.rcParams.update({'xtick.minor.size'   : 5  })\n",
    "mpl.rcParams.update({'xtick.major.width'  : 1.5})\n",
    "mpl.rcParams.update({'xtick.minor.width'  : 1  })\n",
    "mpl.rcParams.update({'ytick.major.size'   : 10 })\n",
    "mpl.rcParams.update({'ytick.minor.size'   : 5  })\n",
    "mpl.rcParams.update({'ytick.major.width'  : 1.5})\n",
    "mpl.rcParams.update({'ytick.minor.width'  : 1  })\n",
    "mpl.rcParams.update({'ytick.direction'  : 'in'  })\n",
    "mpl.rcParams.update({'xtick.direction'  : 'in'  })\n",
    "mpl.rcParams.update({'xtick.top'  : True  })\n",
    "mpl.rcParams.update({'ytick.right'  : True  })\n"
   ]
  },
  {
   "cell_type": "code",
   "execution_count": null,
   "metadata": {},
   "outputs": [],
   "source": [
    "# read in first 147 rows\n",
    "im = pd.read_csv('Downloads/Interview_Tracking_interview_metrics.csv', nrows = 147)\n"
   ]
  },
  {
   "cell_type": "code",
   "execution_count": null,
   "metadata": {},
   "outputs": [],
   "source": [
    "im\n"
   ]
  },
  {
   "cell_type": "code",
   "execution_count": null,
   "metadata": {},
   "outputs": [],
   "source": [
    "# rows that are entirely null\n",
    "im[im.isnull().all(axis=1)]\n"
   ]
  },
  {
   "cell_type": "code",
   "execution_count": null,
   "metadata": {
    "scrolled": true
   },
   "outputs": [],
   "source": [
    "# replace data engineer, data analytics engineer with DAE\n",
    "im['Position'] = im['Position'].str.replace('Data (Analytics )*Engineer', 'DAE', regex = True).str.rstrip(' ')\n",
    "# get mean and count by position\n",
    "im_grouped = im.groupby('Position').agg(['mean', 'count'])\n",
    "im_grouped\n"
   ]
  },
  {
   "cell_type": "code",
   "execution_count": null,
   "metadata": {
    "scrolled": true
   },
   "outputs": [],
   "source": [
    "# rows with no data (all mean cols null)\n",
    "no_data = im_grouped[im_grouped[[col for col in im_grouped.columns if 'mean' in col]].isnull().all(axis=1)]\n",
    "sorted([row for row in no_data.index])\n"
   ]
  },
  {
   "cell_type": "code",
   "execution_count": null,
   "metadata": {
    "scrolled": true
   },
   "outputs": [],
   "source": [
    "# rows with any data\n",
    "some_data = im_grouped[im_grouped[[col for col in im_grouped.columns if 'mean' in col]].notnull().any(axis=1)]\n",
    "some_data = some_data.sort_values('Position')\n",
    "# weighted mean\n",
    "for row in some_data.index:\n",
    "    some_data.loc[row, ('Summary', 'mean')] = np.average(\n",
    "        some_data.loc[row, [col for col in im_grouped.columns if 'mean' in col]].fillna(0),\n",
    "        weights = some_data.loc[row, [col for col in im_grouped.columns if 'count' in col]]\n",
    "    )\n",
    "# count\n",
    "some_data[('Summary', 'count')] = some_data[[col for col in im_grouped.columns if 'count' in col]].apply(\n",
    "    sum, axis = 1)\n",
    "some_data['color'] = default_colors[:some_data.shape[0]]\n",
    "some_data\n"
   ]
  },
  {
   "cell_type": "code",
   "execution_count": null,
   "metadata": {},
   "outputs": [],
   "source": [
    "# max count for plotting\n",
    "count_max = some_data[[col for col in im_grouped.columns if 'count' in col]].max().max()\n",
    "count_max\n"
   ]
  },
  {
   "cell_type": "code",
   "execution_count": null,
   "metadata": {},
   "outputs": [],
   "source": [
    "# overall max count for plotting\n",
    "overall_count_max = some_data[('Summary', 'count')].max()\n",
    "overall_count_max\n"
   ]
  },
  {
   "cell_type": "code",
   "execution_count": null,
   "metadata": {
    "scrolled": false
   },
   "outputs": [],
   "source": [
    "for col in [col[0] for col in some_data.columns[:-1:2]]:\n",
    "    sortd = some_data.sort_values([(col, 'mean'), (col, 'count')])[col].dropna(subset = ['mean'])\n",
    "    sortd['color'] = some_data.loc[[row for row in sortd.index], 'color']\n",
    "    \n",
    "    fig, ax1 = plt.subplots()\n",
    "    sortd['count'].plot.bar(color = sortd['color'])\n",
    "    ax1.set_ylabel('count (bar)')\n",
    "    if col == 'Summary':\n",
    "        ax1.set_ylim([0, overall_count_max + 2])\n",
    "    else:\n",
    "        ax1.set_ylim([0, count_max + 2])\n",
    "\n",
    "    plt.xticks(rotation = 20, ha = 'right')\n",
    "    plt.title(col)\n",
    "\n",
    "    ax2 = ax1.twinx()\n",
    "    ax2.plot(sortd['mean'], linewidth = 2.0, color = 'black')\n",
    "    ax2.set_ylabel('mean score (line)')\n",
    "    ax2.set_ylim([0.9, 4.1])\n",
    "\n",
    "    excluded = list(some_data.index)\n",
    "    for row in sortd.index:\n",
    "        excluded.remove(row)\n",
    "    excluded_str = ', '.join(excluded)\n",
    "    if excluded != []:\n",
    "        if len(excluded_str) > 60:\n",
    "            excluded_str = excluded_str.replace(', ', \"\"\",\n",
    "            \"\"\")\n",
    "            ax2.text(-0.35, 3.55, f\"No data: {excluded_str}\")\n",
    "        else:     \n",
    "            ax2.text(-0.35, 3.85, f\"No data: {excluded_str}\")                \n"
   ]
  },
  {
   "cell_type": "code",
   "execution_count": null,
   "metadata": {},
   "outputs": [],
   "source": []
  },
  {
   "cell_type": "code",
   "execution_count": null,
   "metadata": {},
   "outputs": [],
   "source": []
  },
  {
   "cell_type": "code",
   "execution_count": null,
   "metadata": {},
   "outputs": [],
   "source": []
  },
  {
   "cell_type": "code",
   "execution_count": null,
   "metadata": {},
   "outputs": [],
   "source": []
  },
  {
   "cell_type": "code",
   "execution_count": null,
   "metadata": {},
   "outputs": [],
   "source": [
    "it = pd.read_csv('Downloads/Interview_Tracking_background.csv', nrows = 148)\n"
   ]
  },
  {
   "cell_type": "code",
   "execution_count": null,
   "metadata": {},
   "outputs": [],
   "source": [
    "it\n"
   ]
  },
  {
   "cell_type": "code",
   "execution_count": null,
   "metadata": {},
   "outputs": [],
   "source": [
    "it[it.values  == \"ATSV\"]\n"
   ]
  },
  {
   "cell_type": "code",
   "execution_count": null,
   "metadata": {
    "scrolled": true
   },
   "outputs": [],
   "source": [
    "it[it.isnull().all(axis=1)]\n"
   ]
  },
  {
   "cell_type": "code",
   "execution_count": null,
   "metadata": {},
   "outputs": [],
   "source": [
    "it = it.dropna(how = 'all')\n"
   ]
  },
  {
   "cell_type": "code",
   "execution_count": null,
   "metadata": {
    "scrolled": true
   },
   "outputs": [],
   "source": [
    "it = it.rename(columns = {'Move on to in-person interview?': 'In Person?'})\n",
    "it['Position'] = it['Position'].str.replace('Data (Analytics )*Engineer', 'DAE', regex = True).str.rstrip(' ')\n",
    "\n",
    "numeric_cols = ['In Person?', 'Offer?', 'Offer Accepted?']\n",
    "for col in numeric_cols:\n",
    "    it[col] = it[col].replace(['No', 'Yes', 'ATSV'], ['0', '1', '1']).astype(float)\n",
    "\n",
    "it\n"
   ]
  },
  {
   "cell_type": "code",
   "execution_count": null,
   "metadata": {
    "scrolled": true
   },
   "outputs": [],
   "source": [
    "for col in it.columns:\n",
    "    print(it[col].value_counts())\n",
    "        "
   ]
  },
  {
   "cell_type": "code",
   "execution_count": null,
   "metadata": {
    "scrolled": true
   },
   "outputs": [],
   "source": [
    "it_grouped_pos_num = it.groupby('Position').agg({col: ['mean', 'count'] for col in numeric_cols})\n",
    "it_grouped_pos_num\n"
   ]
  },
  {
   "cell_type": "code",
   "execution_count": null,
   "metadata": {},
   "outputs": [],
   "source": [
    "no_data = it_grouped_pos_num[it_grouped_pos_num[[\n",
    "    col for col in it_grouped_pos_num.columns if 'mean' in col]].isnull().all(axis=1)]\n",
    "sorted([row for row in no_data.index])\n"
   ]
  },
  {
   "cell_type": "code",
   "execution_count": null,
   "metadata": {
    "scrolled": true
   },
   "outputs": [],
   "source": [
    "some_data = it_grouped_pos_num[it_grouped_pos_num[[\n",
    "    col for col in it_grouped_pos_num.columns if 'mean' in col]].notnull().any(axis=1)]\n",
    "some_data = some_data.sort_values('Position')\n",
    "some_data\n"
   ]
  },
  {
   "cell_type": "code",
   "execution_count": null,
   "metadata": {},
   "outputs": [],
   "source": []
  },
  {
   "cell_type": "code",
   "execution_count": null,
   "metadata": {
    "scrolled": true
   },
   "outputs": [],
   "source": [
    "it_consolidated = it.copy()\n",
    "\n",
    "fields_to_consolidate = {\n",
    "    'Junior DAE.*': 'Junior DAE',\n",
    "    '\\A(Junior |)Data Scientist.*': 'Junior Data Scientist',\n",
    "    '.*Data Science Manager': 'Data Science Manager',\n",
    "    'Senior Data Scientist.*': 'Senior Data Scientist',\n",
    "    '.*Product Intelligence Consultant.*': 'Product Intelligence Consultant'\n",
    "}\n",
    "for field in fields_to_consolidate.keys():\n",
    "    it_consolidated['Position'] = it_consolidated['Position'].str.replace(\n",
    "        field, fields_to_consolidate[field])\n",
    "\n",
    "it_consolidated['General Position'] = it_consolidated['Position']\n",
    "\n",
    "fields_to_double_consolidate = {\n",
    "    '\\A\\w* \\w*(\\w* \\w*)* Manager': 'Manager',\n",
    "    '.* Senior Manager': 'Senior Manager',\n",
    "    '.*Consultant': 'Consultant',\n",
    "    'Intern.*': 'Intern'\n",
    "}\n",
    "for field in fields_to_double_consolidate.keys():\n",
    "    it_consolidated['General Position'] = it_consolidated['General Position'].str.replace(\n",
    "        field, fields_to_double_consolidate[field])\n",
    "    \n",
    "it_consolidated\n"
   ]
  },
  {
   "cell_type": "code",
   "execution_count": null,
   "metadata": {},
   "outputs": [],
   "source": [
    "for col in numeric_cols:\n",
    "    plt.figure()\n",
    "    plt.hist(it_consolidated[col])\n",
    "    plt.title(col)\n"
   ]
  },
  {
   "cell_type": "code",
   "execution_count": null,
   "metadata": {
    "scrolled": true
   },
   "outputs": [],
   "source": [
    "it_consolidated_pos_num = it_consolidated.groupby('Position').agg(\n",
    "    {col: ['mean', 'count', 'sum'] for col in numeric_cols})\n",
    "it_consolidated_pos_num\n"
   ]
  },
  {
   "cell_type": "code",
   "execution_count": null,
   "metadata": {
    "scrolled": true
   },
   "outputs": [],
   "source": [
    "some_data = it_consolidated_pos_num[it_consolidated_pos_num[[\n",
    "    col for col in it_consolidated_pos_num.columns if 'mean' in col]].notnull().any(axis=1)]\n",
    "some_data = some_data.sort_values('Position')\n",
    "some_data['color'] = (default_colors * 2)[:some_data.shape[0]]\n",
    "some_data\n"
   ]
  },
  {
   "cell_type": "code",
   "execution_count": null,
   "metadata": {},
   "outputs": [],
   "source": [
    "count_max = some_data[[col for col in it_consolidated_pos_num.columns if 'count' in col]].max().max()\n",
    "count_max\n"
   ]
  },
  {
   "cell_type": "code",
   "execution_count": null,
   "metadata": {},
   "outputs": [],
   "source": []
  },
  {
   "cell_type": "code",
   "execution_count": null,
   "metadata": {
    "scrolled": false
   },
   "outputs": [],
   "source": [
    "for col in [col[0] for col in some_data.columns[:-1:3]]:\n",
    "    sortd = some_data.sort_values([(col, 'mean'), (col, 'count')])[col].dropna(subset = ['mean'])\n",
    "    sortd['color'] = some_data.loc[[row for row in sortd.index], 'color']\n",
    "    \n",
    "    fig, ax1 = plt.subplots(figsize = (15, 10))\n",
    "    sortd['count'].plot.bar(color = sortd['color'])\n",
    "    ax1.set_ylabel('Sample size (bar)')\n",
    "\n",
    "    plt.xticks(rotation = 45, ha = 'right')\n",
    "    plt.title(col)\n",
    "\n",
    "    ax2 = ax1.twinx()\n",
    "    ax2.plot(sortd['mean'] * 100, linewidth = 2.0, color = 'black')\n",
    "    ax2.set_ylabel('Percentage of Candidates (line)', fontsize = 16)\n",
    "    ax2.set_ylim([-10, 110])\n",
    "\n",
    "    excluded = list(some_data.index)\n",
    "    for row in sortd.index:\n",
    "        excluded.remove(row)\n",
    "    if excluded != []:\n",
    "        ax2.text(9, 95, f\"No data: {', '.join(excluded)}\")\n",
    "      "
   ]
  },
  {
   "cell_type": "code",
   "execution_count": null,
   "metadata": {
    "scrolled": false
   },
   "outputs": [],
   "source": [
    "mean_cols = [col for col in some_data.columns[:-1:3]]\n",
    "count_cols = [col for col in some_data.columns[1::3]]\n",
    "\n",
    "sortd = some_data.sort_values(mean_cols + count_cols)\n",
    "sortd['color'] = some_data.loc[[row for row in sortd.index], 'color']\n",
    "\n",
    "fig, ax1 = plt.subplots(figsize = (15, 10))\n",
    "for i, col in enumerate(count_cols):\n",
    "    ax1.bar(sortd.index, sortd[col], color = sortd['color'], alpha = 0.5 + i * 0.25)\n",
    "ax1.set_ylabel('Sample size (bar)')\n",
    "\n",
    "plt.xticks(rotation = 45, ha = 'right')\n",
    "plt.title('Interview Progression')\n",
    "\n",
    "ax2 = ax1.twinx()\n",
    "colors = ['red', 'blue', 'green']\n",
    "for i, col in enumerate(mean_cols):\n",
    "    ax2.plot(sortd[col] * 100, linewidth = 2.0, color = colors[i])\n",
    "ax2.set_ylabel('Percentage of Candidates (line)')\n",
    "ax2.set_ylim([-10, 135])\n",
    "\n",
    "handles2, labels2 = ax2.get_legend_handles_labels()\n",
    "patches = [mpl.patches.Patch(color = 'black', alpha = 0.25 + i * 0.25, label = l)\n",
    "           for i, l in enumerate(labels2)]\n",
    "ax2.legend(patches + handles2, [''] * 3 + [label[2:-10] for label in labels2], \n",
    "           loc = 'upper right', ncol = 2, handletextpad=0.4, columnspacing=0.4)\n",
    "\n",
    "excluded = list(some_data.index)\n",
    "for row in sortd.index:\n",
    "    excluded.remove(row)\n",
    "if excluded != []:\n",
    "    ax2.text(9.5, 105, f\"No data: {', '.join(excluded)}\")\n"
   ]
  },
  {
   "cell_type": "code",
   "execution_count": null,
   "metadata": {
    "scrolled": false
   },
   "outputs": [],
   "source": [
    "for col in [col[0] for col in some_data.columns[:-1:3]]:\n",
    "    sortd = some_data.sort_values([(col, 'mean'), (col, 'count')])[col].dropna(subset = ['mean'])\n",
    "    sortd['color'] = some_data.loc[[row for row in sortd.index], 'color']\n",
    "    \n",
    "    fig, ax = plt.subplots(figsize = (15, 10))\n",
    "    \n",
    "    ax.bar(sortd.index, sortd['count'], color = sortd['color'], alpha = 0.5)\n",
    "    ax.bar(sortd.index, sortd['sum'], color = 'None', edgecolor = 'black')\n",
    "    ax.set_ylabel('Count')\n",
    "\n",
    "    plt.xticks(rotation = 45, ha = 'right')\n",
    "    plt.title(col)\n",
    "    \n",
    "    patches = [mpl.patches.Patch(color = 'black', alpha = 0.5, label = 'All'),\n",
    "               mpl.patches.Patch(facecolor = 'white', edgecolor = 'black', label = 'Yes')]\n",
    "    ax.legend(handles = patches, loc = 'best', handletextpad=0.4, columnspacing=0.4)\n",
    "\n",
    "\n",
    "    excluded = list(some_data.index)\n",
    "    for row in sortd.index:\n",
    "        excluded.remove(row)\n",
    "    if excluded != []:\n",
    "        ax.text(9.4, 5.4, f\"No data: {', '.join(excluded)}\")\n",
    "      "
   ]
  },
  {
   "cell_type": "code",
   "execution_count": null,
   "metadata": {},
   "outputs": [],
   "source": [
    "cols = [col[0] for col in some_data.columns[:-1:3]]\n",
    "mean_cols = [col for col in some_data.columns[:-1:3]]\n",
    "count_cols = [col for col in some_data.columns[1::3]]\n",
    "\n",
    "sortd = some_data.sort_values(mean_cols + count_cols)\n",
    "sortd['color'] = some_data.loc[[row for row in sortd.index], 'color']\n",
    "\n",
    "fig, ax = plt.subplots(figsize = (15, 10))\n",
    "\n",
    "width = 0.25\n",
    "ind = np.arange(len(sortd.index))\n",
    "\n",
    "patches = []\n",
    "for i, col in enumerate(cols):\n",
    "    ax.bar(ind + width * i, sortd[(col, 'count')], width, color = sortd['color'], alpha = 0.25 + 0.25 * i)\n",
    "    ax.bar(ind + width * i, sortd[(col, 'sum')], width, color = 'None', edgecolor = 'black')\n",
    "    ax.set_ylabel('Count')\n",
    "    \n",
    "    patches.append(mpl.patches.Patch(color = 'black', alpha = 0.25 + 0.25 * i, label = f'{col} All'))\n",
    "\n",
    "patches.append(mpl.patches.Patch(facecolor = 'white', edgecolor = 'black', label = 'Yes'))\n",
    "patches.append(mpl.patches.Patch(color = 'white'))\n",
    "\n",
    "ax.set_xticklabels(sortd.index)\n",
    "ax.legend(handles = patches, loc = 'best', handletextpad = 0.4, columnspacing = 0.4, ncol = 2)\n",
    "\n",
    "plt.xticks(np.arange(min(ind) + 0.25, max(ind) + 1.25), rotation = 45, ha = 'right')\n",
    "plt.title('Interview Progression')\n"
   ]
  },
  {
   "cell_type": "code",
   "execution_count": null,
   "metadata": {},
   "outputs": [],
   "source": []
  },
  {
   "cell_type": "code",
   "execution_count": null,
   "metadata": {
    "scrolled": true
   },
   "outputs": [],
   "source": [
    "it_consolidated_gp_num = it_consolidated.groupby('General Position').agg(\n",
    "    {col: ['mean', 'count', 'sum'] for col in numeric_cols})\n",
    "it_consolidated_gp_num\n"
   ]
  },
  {
   "cell_type": "code",
   "execution_count": null,
   "metadata": {},
   "outputs": [],
   "source": [
    "some_data = it_consolidated_gp_num[it_consolidated_gp_num[[\n",
    "    col for col in it_consolidated_gp_num.columns if 'mean' in col]].notnull().any(axis=1)]\n",
    "some_data = some_data.sort_values('General Position')\n",
    "some_data['color'] = (default_colors * 2)[:some_data.shape[0]]\n",
    "some_data\n"
   ]
  },
  {
   "cell_type": "code",
   "execution_count": null,
   "metadata": {
    "scrolled": false
   },
   "outputs": [],
   "source": [
    "for col in [col[0] for col in some_data.columns[:-1:3]]:\n",
    "    sortd = some_data.sort_values([(col, 'mean'), (col, 'count')])[col].dropna(subset = ['mean'])\n",
    "    sortd['color'] = some_data.loc[[row for row in sortd.index], 'color']\n",
    "    \n",
    "    fig, ax1 = plt.subplots(figsize = (15, 10))\n",
    "    sortd['count'].plot.bar(color = sortd['color'])\n",
    "    ax1.set_ylabel('Sample size (bar)')\n",
    "\n",
    "    plt.xticks(rotation = 45, ha = 'right')\n",
    "    plt.title(col)\n",
    "\n",
    "    ax2 = ax1.twinx()\n",
    "    ax2.plot(sortd['mean'] * 100, linewidth = 2.0, color = 'black')\n",
    "    ax2.set_ylabel('Percentage of Candidates (line)', fontsize = 16)\n",
    "    ax2.set_ylim([-10, 110])\n",
    "\n",
    "    excluded = list(some_data.index)\n",
    "    for row in sortd.index:\n",
    "        excluded.remove(row)\n",
    "    if excluded != []:\n",
    "        ax2.text(4, 95, f\"No data: {', '.join(excluded)}\")\n",
    "      "
   ]
  },
  {
   "cell_type": "code",
   "execution_count": null,
   "metadata": {},
   "outputs": [],
   "source": [
    "mean_cols = [col for col in some_data.columns[:-1:3]]\n",
    "count_cols = [col for col in some_data.columns[1::3]]\n",
    "\n",
    "sortd = some_data.sort_values(mean_cols + count_cols)\n",
    "sortd['color'] = some_data.loc[[row for row in sortd.index], 'color']\n",
    "\n",
    "fig, ax1 = plt.subplots(figsize = (15, 10))\n",
    "for i, col in enumerate(count_cols):\n",
    "    ax1.bar(sortd.index, sortd[col], color = sortd['color'], alpha = 0.5 + i * 0.25)\n",
    "ax1.set_ylabel('Sample size (bar)')\n",
    "\n",
    "plt.xticks(rotation = 45, ha = 'right')\n",
    "plt.title('Interview Progression')\n",
    "\n",
    "ax2 = ax1.twinx()\n",
    "colors = ['red', 'blue', 'green']\n",
    "for i, col in enumerate(mean_cols):\n",
    "    ax2.plot(sortd[col] * 100, linewidth = 2.0, color = colors[i])\n",
    "ax2.set_ylabel('Percentage of Candidates (line)')\n",
    "ax2.set_ylim([-10, 135])\n",
    "\n",
    "handles2, labels2 = ax2.get_legend_handles_labels()\n",
    "patches = [mpl.patches.Patch(color = 'black', alpha = 0.25 + i * 0.25, label = l)\n",
    "           for i, l in enumerate(labels2)]\n",
    "ax2.legend(patches + handles2, [''] * 3 + [label[2:-10] for label in labels2], \n",
    "           loc = 'upper right', ncol = 2, handletextpad=0.4, columnspacing=0.4)\n",
    "\n",
    "excluded = list(some_data.index)\n",
    "for row in sortd.index:\n",
    "    excluded.remove(row)\n",
    "if excluded != []:\n",
    "    ax2.text(9.5, 105, f\"No data: {', '.join(excluded)}\")\n"
   ]
  },
  {
   "cell_type": "code",
   "execution_count": null,
   "metadata": {},
   "outputs": [],
   "source": [
    "for col in [col[0] for col in some_data.columns[:-1:3]]:\n",
    "    sortd = some_data.sort_values([(col, 'mean'), (col, 'count')])[col].dropna(subset = ['mean'])\n",
    "    sortd['color'] = some_data.loc[[row for row in sortd.index], 'color']\n",
    "    \n",
    "    fig, ax = plt.subplots(figsize = (15, 10))\n",
    "    \n",
    "    ax.bar(sortd.index, sortd['count'], color = sortd['color'], alpha = 0.5)\n",
    "    ax.bar(sortd.index, sortd['sum'], color = 'None', edgecolor = 'black')\n",
    "    ax.set_ylabel('Count')\n",
    "\n",
    "    plt.xticks(rotation = 45, ha = 'right')\n",
    "    plt.title(col)\n",
    "    \n",
    "    patches = [mpl.patches.Patch(color = 'black', alpha = 0.5, label = 'All'),\n",
    "               mpl.patches.Patch(facecolor = 'white', edgecolor = 'black', label = 'Yes')]\n",
    "    ax.legend(handles = patches, loc = 'best', handletextpad=0.4, columnspacing=0.4)\n",
    "\n",
    "\n",
    "    excluded = list(some_data.index)\n",
    "    for row in sortd.index:\n",
    "        excluded.remove(row)\n",
    "    if excluded != []:\n",
    "        ax.text(4.5, 5.4, f\"No data: {', '.join(excluded)}\")\n",
    "      "
   ]
  },
  {
   "cell_type": "code",
   "execution_count": null,
   "metadata": {},
   "outputs": [],
   "source": [
    "cols = [col[0] for col in some_data.columns[:-1:3]]\n",
    "mean_cols = [col for col in some_data.columns[:-1:3]]\n",
    "count_cols = [col for col in some_data.columns[1::3]]\n",
    "\n",
    "sortd = some_data.sort_values(mean_cols + count_cols)\n",
    "sortd['color'] = some_data.loc[[row for row in sortd.index], 'color']\n",
    "\n",
    "fig, ax = plt.subplots(figsize = (15, 10))\n",
    "\n",
    "width = 0.25\n",
    "ind = np.arange(len(sortd.index))\n",
    "\n",
    "patches = []\n",
    "for i, col in enumerate(cols):\n",
    "    ax.bar(ind + width * i, sortd[(col, 'count')], width, color = sortd['color'], alpha = 0.25 + 0.25 * i)\n",
    "    ax.bar(ind + width * i, sortd[(col, 'sum')], width, color = 'None', edgecolor = 'black')\n",
    "    ax.set_ylabel('Count')\n",
    "    \n",
    "    patches.append(mpl.patches.Patch(color = 'black', alpha = 0.25 + 0.25 * i, label = f'{col} All'))\n",
    "\n",
    "patches.append(mpl.patches.Patch(facecolor = 'white', edgecolor = 'black', label = 'Yes'))\n",
    "patches.append(mpl.patches.Patch(color = 'white'))\n",
    "\n",
    "ax.set_xticklabels(sortd.index)\n",
    "ax.legend(handles = patches, loc = 'best', handletextpad = 0.4, columnspacing = 0.4, ncol = 2)\n",
    "\n",
    "plt.xticks(np.arange(min(ind) + 0.25, max(ind) + 1.25), rotation = 45, ha = 'right')\n",
    "plt.title('Interview Progression')\n"
   ]
  },
  {
   "cell_type": "code",
   "execution_count": null,
   "metadata": {},
   "outputs": [],
   "source": []
  },
  {
   "cell_type": "code",
   "execution_count": null,
   "metadata": {
    "scrolled": true
   },
   "outputs": [],
   "source": [
    "it_consolidated['education'] = np.where(\n",
    "    it_consolidated['Ph.D'].notnull(), 'PhD', np.where(\n",
    "        it_consolidated['Masters'].notnull(), 'Masters', np.where(\n",
    "            it_consolidated['Bachelors'].notnull(), 'Bachelors', 'Unknown'\n",
    ")))\n",
    "\n",
    "degree_types = ['Bachelors', 'Masters', 'Ph.D']\n",
    "for degree in degree_types:\n",
    "    it_consolidated[degree] = it_consolidated[degree].apply(lambda x: x.split(', ') if type(x) == str else x)\n",
    "\n",
    "it_consolidated['degrees'] = it_consolidated[degree_types].values.tolist()\n",
    "it_consolidated['degrees'] = it_consolidated['degrees'].apply(lambda x: [y[0] for y in x if type(y) == list])\n",
    "it_consolidated['degrees'] = it_consolidated['degrees'].apply(lambda x: [np.nan] if x == [] else x)\n"
   ]
  },
  {
   "cell_type": "code",
   "execution_count": null,
   "metadata": {},
   "outputs": [],
   "source": [
    "it_consolidated\n"
   ]
  },
  {
   "cell_type": "code",
   "execution_count": null,
   "metadata": {},
   "outputs": [],
   "source": [
    "it_consolidated[it_consolidated['education'] == 'Unknown']\n"
   ]
  },
  {
   "cell_type": "code",
   "execution_count": null,
   "metadata": {},
   "outputs": [],
   "source": [
    "it_consolidated['education'].value_counts().reindex(['Unknown', 'Bachelors', 'Masters', 'PhD']).plot(kind = 'bar')\n"
   ]
  },
  {
   "cell_type": "code",
   "execution_count": null,
   "metadata": {},
   "outputs": [],
   "source": [
    "it_consolidated_edu_num = it_consolidated.groupby('education').agg(\n",
    "    {col: ['mean', 'count', 'sum'] for col in numeric_cols})\n",
    "it_consolidated_edu_num\n"
   ]
  },
  {
   "cell_type": "code",
   "execution_count": null,
   "metadata": {},
   "outputs": [],
   "source": [
    "some_data = it_consolidated_edu_num[it_consolidated_edu_num[[\n",
    "    col for col in it_consolidated_edu_num.columns if 'mean' in col]].notnull().any(axis=1)]\n",
    "some_data = some_data.sort_values('education')\n",
    "some_data['color'] = (default_colors * 2)[:some_data.shape[0]]\n",
    "some_data\n"
   ]
  },
  {
   "cell_type": "code",
   "execution_count": null,
   "metadata": {},
   "outputs": [],
   "source": [
    "count_max = some_data[[col for col in it_consolidated_edu_num.columns if 'count' in col]].max().max()\n",
    "count_max\n"
   ]
  },
  {
   "cell_type": "code",
   "execution_count": null,
   "metadata": {
    "scrolled": false
   },
   "outputs": [],
   "source": [
    "for col in [col[0] for col in some_data.columns[:-1:3]]:\n",
    "    sortd = some_data.sort_values([(col, 'mean'), (col, 'count')])[col].dropna(subset = ['mean'])\n",
    "    sortd['color'] = some_data.loc[[row for row in sortd.index], 'color']\n",
    "    \n",
    "    fig, ax1 = plt.subplots(figsize = (15, 10))\n",
    "    sortd['count'].plot.bar(color = sortd['color'])\n",
    "    ax1.set_ylabel('Sample size (bar)')\n",
    "\n",
    "    plt.xticks(rotation = 45, ha = 'right')\n",
    "    plt.title(col)\n",
    "\n",
    "    ax2 = ax1.twinx()\n",
    "    ax2.plot(sortd['mean'] * 100, linewidth = 2.0, color = 'black')\n",
    "    ax2.set_ylabel('Percentage of Candidates (line)', fontsize = 16)\n",
    "    ax2.set_ylim([-10, 110])\n",
    "\n",
    "    excluded = list(some_data.index)\n",
    "    for row in sortd.index:\n",
    "        excluded.remove(row)\n",
    "    if excluded != []:\n",
    "        ax2.text(9, 95, f\"No data: {', '.join(excluded)}\")\n",
    "      "
   ]
  },
  {
   "cell_type": "code",
   "execution_count": null,
   "metadata": {},
   "outputs": [],
   "source": [
    "mean_cols = [col for col in some_data.columns[:-1:3]]\n",
    "count_cols = [col for col in some_data.columns[1::3]]\n",
    "\n",
    "sortd = some_data.sort_values(mean_cols + count_cols)\n",
    "sortd['color'] = some_data.loc[[row for row in sortd.index], 'color']\n",
    "\n",
    "fig, ax1 = plt.subplots(figsize = (15, 10))\n",
    "for i, col in enumerate(count_cols):\n",
    "    ax1.bar(sortd.index, sortd[col], color = sortd['color'], alpha = 0.5 + i * 0.25)\n",
    "ax1.set_ylabel('Sample size (bar)')\n",
    "\n",
    "plt.xticks(rotation = 45, ha = 'right')\n",
    "plt.title('Interview Progression')\n",
    "\n",
    "ax2 = ax1.twinx()\n",
    "colors = ['red', 'blue', 'green']\n",
    "for i, col in enumerate(mean_cols):\n",
    "    ax2.plot(sortd[col] * 100, linewidth = 2.0, color = colors[i])\n",
    "ax2.set_ylabel('Percentage of Candidates (line)')\n",
    "ax2.set_ylim([-10, 135])\n",
    "\n",
    "handles2, labels2 = ax2.get_legend_handles_labels()\n",
    "patches = [mpl.patches.Patch(color = 'black', alpha = 0.25 + i * 0.25, label = l)\n",
    "           for i, l in enumerate(labels2)]\n",
    "ax2.legend(patches + handles2, [''] * 3 + [label[2:-10] for label in labels2], \n",
    "           loc = 'upper right', ncol = 2, handletextpad=0.4, columnspacing=0.4)\n",
    "\n",
    "excluded = list(some_data.index)\n",
    "for row in sortd.index:\n",
    "    excluded.remove(row)\n",
    "if excluded != []:\n",
    "    ax2.text(9.5, 105, f\"No data: {', '.join(excluded)}\")\n"
   ]
  },
  {
   "cell_type": "code",
   "execution_count": null,
   "metadata": {
    "scrolled": false
   },
   "outputs": [],
   "source": [
    "for col in [col[0] for col in some_data.columns[:-1:3]]:\n",
    "    sortd = some_data.sort_values([(col, 'mean'), (col, 'count')])[col].dropna(subset = ['mean'])\n",
    "    sortd['color'] = some_data.loc[[row for row in sortd.index], 'color']\n",
    "    \n",
    "    fig, ax = plt.subplots(figsize = (15, 10))\n",
    "    \n",
    "    ax.bar(sortd.index, sortd['count'], color = sortd['color'], alpha = 0.5)\n",
    "    ax.bar(sortd.index, sortd['sum'], color = 'None', edgecolor = 'black')\n",
    "    ax.set_ylabel('Count')\n",
    "\n",
    "    plt.xticks(rotation = 45, ha = 'right')\n",
    "    plt.title(col)\n",
    "    \n",
    "    patches = [mpl.patches.Patch(color = 'black', alpha = 0.5, label = 'All'),\n",
    "               mpl.patches.Patch(facecolor = 'white', edgecolor = 'black', label = 'Yes')]\n",
    "    ax.legend(handles = patches, loc = 'best', handletextpad=0.4, columnspacing=0.4)\n",
    "\n",
    "\n",
    "    excluded = list(some_data.index)\n",
    "    for row in sortd.index:\n",
    "        excluded.remove(row)\n",
    "    if excluded != []:\n",
    "        ax.text(9.4, 5.4, f\"No data: {', '.join(excluded)}\")\n",
    "      "
   ]
  },
  {
   "cell_type": "code",
   "execution_count": null,
   "metadata": {},
   "outputs": [],
   "source": [
    "cols = [col[0] for col in some_data.columns[:-1:3]]\n",
    "mean_cols = [col for col in some_data.columns[:-1:3]]\n",
    "count_cols = [col for col in some_data.columns[1::3]]\n",
    "\n",
    "sortd = some_data.sort_values(mean_cols + count_cols)\n",
    "sortd['color'] = some_data.loc[[row for row in sortd.index], 'color']\n",
    "\n",
    "fig, ax = plt.subplots(figsize = (15, 10))\n",
    "\n",
    "width = 0.25\n",
    "ind = np.arange(len(sortd.index))\n",
    "\n",
    "patches = []\n",
    "for i, col in enumerate(cols):\n",
    "    ax.bar(ind + width * i, sortd[(col, 'count')], width, color = sortd['color'], alpha = 0.25 + 0.25 * i)\n",
    "    ax.bar(ind + width * i, sortd[(col, 'sum')], width, color = 'None', edgecolor = 'black')\n",
    "    ax.set_ylabel('Count')\n",
    "    \n",
    "    patches.append(mpl.patches.Patch(color = 'black', alpha = 0.25 + 0.25 * i, label = f'{col} All'))\n",
    "\n",
    "patches.append(mpl.patches.Patch(facecolor = 'white', edgecolor = 'black', label = 'Yes'))\n",
    "patches.append(mpl.patches.Patch(color = 'white'))\n",
    "\n",
    "ax.set_xticklabels(sortd.index)\n",
    "ax.legend(handles = patches, loc = 'best', handletextpad = 0.4, columnspacing = 0.4, ncol = 2)\n",
    "\n",
    "plt.xticks(np.arange(min(ind) + 0.25, max(ind) + 1.25), rotation = 45, ha = 'right')\n",
    "plt.title('Interview Progression')\n"
   ]
  },
  {
   "cell_type": "code",
   "execution_count": null,
   "metadata": {},
   "outputs": [],
   "source": []
  },
  {
   "cell_type": "code",
   "execution_count": null,
   "metadata": {},
   "outputs": [],
   "source": [
    "df.where(df % 3 == 0, -df)"
   ]
  },
  {
   "cell_type": "code",
   "execution_count": null,
   "metadata": {},
   "outputs": [],
   "source": []
  },
  {
   "cell_type": "code",
   "execution_count": null,
   "metadata": {},
   "outputs": [],
   "source": []
  },
  {
   "cell_type": "code",
   "execution_count": null,
   "metadata": {},
   "outputs": [],
   "source": []
  },
  {
   "cell_type": "code",
   "execution_count": null,
   "metadata": {},
   "outputs": [],
   "source": []
  },
  {
   "cell_type": "code",
   "execution_count": null,
   "metadata": {},
   "outputs": [],
   "source": []
  }
 ],
 "metadata": {
  "kernelspec": {
   "display_name": "Python 3",
   "language": "python",
   "name": "python3"
  },
  "language_info": {
   "codemirror_mode": {
    "name": "ipython",
    "version": 3
   },
   "file_extension": ".py",
   "mimetype": "text/x-python",
   "name": "python",
   "nbconvert_exporter": "python",
   "pygments_lexer": "ipython3",
   "version": "3.6.5"
  }
 },
 "nbformat": 4,
 "nbformat_minor": 2
}

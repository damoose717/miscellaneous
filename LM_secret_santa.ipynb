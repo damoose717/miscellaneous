{
 "cells": [
  {
   "cell_type": "code",
   "execution_count": null,
   "metadata": {},
   "outputs": [],
   "source": [
    "import numpy as np\n",
    "import subprocess\n",
    "import json\n"
   ]
  },
  {
   "cell_type": "code",
   "execution_count": null,
   "metadata": {},
   "outputs": [],
   "source": [
    "# read in dict -- format: {f'{user}': f'{email}'}\n",
    "with open('email_dict.json', 'r') as f:\n",
    "    givers = json.load(f)"
   ]
  },
  {
   "cell_type": "code",
   "execution_count": null,
   "metadata": {},
   "outputs": [],
   "source": [
    "givers\n"
   ]
  },
  {
   "cell_type": "code",
   "execution_count": null,
   "metadata": {},
   "outputs": [],
   "source": [
    "n = len(givers)\n"
   ]
  },
  {
   "cell_type": "code",
   "execution_count": null,
   "metadata": {},
   "outputs": [],
   "source": [
    "# randomly sort givers\n",
    "assigned_givers = np.random.choice(list(givers.keys()), n, replace = False)\n"
   ]
  },
  {
   "cell_type": "code",
   "execution_count": null,
   "metadata": {},
   "outputs": [],
   "source": [
    "# receivers list is same as givers\n",
    "receivers = list(givers.keys())\n",
    "# initialize list\n",
    "assigned_receivers = []\n",
    "for i in range(n):\n",
    "    # giver can't be their own receiver\n",
    "    possible_receivers = [receiver for receiver in receivers if receiver != assigned_givers[i]]\n",
    "    assigned_receiver = np.random.choice(possible_receivers, 1)[0]\n",
    "    # append to list \n",
    "    assigned_receivers.append(assigned_receiver)\n",
    "    # remove so it's sampling without replacement!\n",
    "    receivers.remove(assigned_receiver)\n"
   ]
  },
  {
   "cell_type": "code",
   "execution_count": null,
   "metadata": {},
   "outputs": [],
   "source": [
    "# email body\n",
    "scripts = {givers[giver]: f'{giver}, your giftee is {receiver}' \n",
    "           for giver, receiver in zip(assigned_givers, assigned_receivers)}\n"
   ]
  },
  {
   "cell_type": "code",
   "execution_count": null,
   "metadata": {},
   "outputs": [],
   "source": [
    "scripts\n"
   ]
  },
  {
   "cell_type": "code",
   "execution_count": null,
   "metadata": {
    "scrolled": true
   },
   "outputs": [],
   "source": [
    "for email in scripts.keys():\n",
    "    subprocess.run(f'mail -s \"SECRET SANTA!!!\" {email} <<< \"{scripts[email]}\"', shell = True)\n",
    "    "
   ]
  },
  {
   "cell_type": "code",
   "execution_count": null,
   "metadata": {},
   "outputs": [],
   "source": []
  }
 ],
 "metadata": {
  "kernelspec": {
   "display_name": "Python 3",
   "language": "python",
   "name": "python3"
  },
  "language_info": {
   "codemirror_mode": {
    "name": "ipython",
    "version": 3
   },
   "file_extension": ".py",
   "mimetype": "text/x-python",
   "name": "python",
   "nbconvert_exporter": "python",
   "pygments_lexer": "ipython3",
   "version": "3.6.5"
  }
 },
 "nbformat": 4,
 "nbformat_minor": 2
}
